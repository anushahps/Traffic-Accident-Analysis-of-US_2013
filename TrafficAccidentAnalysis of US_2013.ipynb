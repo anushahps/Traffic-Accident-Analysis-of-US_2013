{
 "cells": [
  {
   "cell_type": "code",
   "execution_count": null,
   "id": "6dee9b98",
   "metadata": {},
   "outputs": [],
   "source": [
    "from pyspark.sql import SparkSession\n",
    "from pyspark.sql.functions import hour,month,col,count\n",
    "import matplotlib.pyplot as plt\n"
   ]
  },
  {
   "cell_type": "code",
   "execution_count": null,
   "id": "83ed53db",
   "metadata": {},
   "outputs": [],
   "source": [
    "spark=SparkSession.builder.appName(\"TrafficAccidentAnalysis\").getOrCreate()\n"
   ]
  },
  {
   "cell_type": "code",
   "execution_count": null,
   "id": "dcdcfcad",
   "metadata": {},
   "outputs": [],
   "source": [
    "df=spark.read.csv(r\"C:\\Users\\User\\Desktop\\US_Accidents_March23.csv\",header=True,inferSchema=True)\n"
   ]
  },
  {
   "cell_type": "code",
   "execution_count": 4,
   "id": "cbe0d07b",
   "metadata": {},
   "outputs": [
    {
     "data": {
      "text/plain": [
       "DataFrame[ID: string, Source: string, Severity: int, Start_Time: timestamp, End_Time: timestamp, Start_Lat: double, Start_Lng: double, End_Lat: double, End_Lng: double, Distance(mi): double, Description: string, Street: string, City: string, County: string, State: string, Zipcode: string, Country: string, Timezone: string, Airport_Code: string, Weather_Timestamp: timestamp, Temperature(F): double, Wind_Chill(F): double, Humidity(%): double, Pressure(in): double, Visibility(mi): double, Wind_Direction: string, Wind_Speed(mph): double, Precipitation(in): double, Weather_Condition: string, Amenity: boolean, Bump: boolean, Crossing: boolean, Give_Way: boolean, Junction: boolean, No_Exit: boolean, Railway: boolean, Roundabout: boolean, Station: boolean, Stop: boolean, Traffic_Calming: boolean, Traffic_Signal: boolean, Turning_Loop: boolean, Sunrise_Sunset: string, Civil_Twilight: string, Nautical_Twilight: string, Astronomical_Twilight: string]"
      ]
     },
     "execution_count": 4,
     "metadata": {},
     "output_type": "execute_result"
    }
   ],
   "source": [
    "df"
   ]
  },
  {
   "cell_type": "code",
   "execution_count": 5,
   "id": "ca10ead6",
   "metadata": {},
   "outputs": [
    {
     "data": {
      "text/plain": [
       "Row(ID='A-1', Source='Source2', Severity=3, Start_Time=datetime.datetime(2016, 2, 8, 5, 46), End_Time=datetime.datetime(2016, 2, 8, 11, 0), Start_Lat=39.865147, Start_Lng=-84.058723, End_Lat=None, End_Lng=None, Distance(mi)=0.01, Description='Right lane blocked due to accident on I-70 Eastbound at Exit 41 OH-235 State Route 4.', Street='I-70 E', City='Dayton', County='Montgomery', State='OH', Zipcode='45424', Country='US', Timezone='US/Eastern', Airport_Code='KFFO', Weather_Timestamp=datetime.datetime(2016, 2, 8, 5, 58), Temperature(F)=36.9, Wind_Chill(F)=None, Humidity(%)=91.0, Pressure(in)=29.68, Visibility(mi)=10.0, Wind_Direction='Calm', Wind_Speed(mph)=None, Precipitation(in)=0.02, Weather_Condition='Light Rain', Amenity=False, Bump=False, Crossing=False, Give_Way=False, Junction=False, No_Exit=False, Railway=False, Roundabout=False, Station=False, Stop=False, Traffic_Calming=False, Traffic_Signal=False, Turning_Loop=False, Sunrise_Sunset='Night', Civil_Twilight='Night', Nautical_Twilight='Night', Astronomical_Twilight='Night')"
      ]
     },
     "execution_count": 5,
     "metadata": {},
     "output_type": "execute_result"
    }
   ],
   "source": [
    "df.head()"
   ]
  },
  {
   "cell_type": "markdown",
   "id": "bcc2b988",
   "metadata": {},
   "source": [
    "Extract hour and month"
   ]
  },
  {
   "cell_type": "code",
   "execution_count": null,
   "id": "5675151a",
   "metadata": {},
   "outputs": [],
   "source": [
    "df=df.withColumn(\"Hour\",hour(col(\"start_time\")))\n",
    "df=df.withColumn(\"Month\",month(col(\"start_time\")))"
   ]
  },
  {
   "cell_type": "markdown",
   "id": "0f48996d",
   "metadata": {},
   "source": [
    "\n",
    "Peak accident hours"
   ]
  },
  {
   "cell_type": "code",
   "execution_count": null,
   "id": "a1a69bba",
   "metadata": {},
   "outputs": [
    {
     "name": "stdout",
     "output_type": "stream",
     "text": [
      "+----+--------------+\n",
      "|Hour|Accident_Count|\n",
      "+----+--------------+\n",
      "|   7|        587472|\n",
      "|  16|        581969|\n",
      "|   8|        577576|\n",
      "|  17|        576015|\n",
      "|  15|        525855|\n",
      "|  14|        448846|\n",
      "|  18|        432042|\n",
      "|   6|        405837|\n",
      "|  13|        396445|\n",
      "|   9|        363034|\n",
      "|  11|        355040|\n",
      "|  12|        355001|\n",
      "|  10|        342706|\n",
      "|  19|        295121|\n",
      "|   5|        228182|\n",
      "|  20|        225226|\n",
      "|  21|        191452|\n",
      "|  22|        167645|\n",
      "|   4|        159852|\n",
      "|  23|        126539|\n",
      "+----+--------------+\n",
      "only showing top 20 rows\n",
      "\n"
     ]
    }
   ],
   "source": [
    "peak_hours=df.groupBy(\"Hour\").agg(count(\"*\").alias(\"Accident_Count\")).orderBy(col(\"Accident_Count\").desc())\n",
    "peak_hours.show()\n"
   ]
  },
  {
   "cell_type": "markdown",
   "id": "68c7123f",
   "metadata": {},
   "source": [
    "Most dangerous states"
   ]
  },
  {
   "cell_type": "code",
   "execution_count": null,
   "id": "c62ebe78",
   "metadata": {},
   "outputs": [
    {
     "name": "stdout",
     "output_type": "stream",
     "text": [
      "+-----+---------------+\n",
      "|State|Total_Accidents|\n",
      "+-----+---------------+\n",
      "|   CA|        1741433|\n",
      "|   FL|         880192|\n",
      "|   TX|         582837|\n",
      "|   SC|         382557|\n",
      "|   NY|         347960|\n",
      "|   NC|         338199|\n",
      "|   VA|         303301|\n",
      "|   PA|         296620|\n",
      "|   MN|         192084|\n",
      "|   OR|         179660|\n",
      "|   AZ|         170609|\n",
      "|   GA|         169234|\n",
      "|   IL|         168958|\n",
      "|   TN|         167388|\n",
      "|   MI|         162191|\n",
      "|   LA|         149701|\n",
      "|   NJ|         140719|\n",
      "|   MD|         140417|\n",
      "|   OH|         118115|\n",
      "|   WA|         108221|\n",
      "+-----+---------------+\n",
      "only showing top 20 rows\n",
      "\n"
     ]
    }
   ],
   "source": [
    "dangerous_states=df.groupBy(\"State\").agg(count(\"*\").alias(\"Total_Accidents\")).orderBy(col(\"Total_Accidents\").desc())\n",
    "dangerous_states.show()"
   ]
  },
  {
   "cell_type": "markdown",
   "id": "20cb78ee",
   "metadata": {},
   "source": [
    "Monthly trend"
   ]
  },
  {
   "cell_type": "code",
   "execution_count": null,
   "id": "e016e8aa",
   "metadata": {},
   "outputs": [
    {
     "name": "stdout",
     "output_type": "stream",
     "text": [
      "+-----+---------------+\n",
      "|Month|Total_Accidents|\n",
      "+-----+---------------+\n",
      "|    1|         751946|\n",
      "|    2|         658984|\n",
      "|    3|         554595|\n",
      "|    4|         587300|\n",
      "|    5|         558176|\n",
      "|    6|         571373|\n",
      "|    7|         512335|\n",
      "|    8|         599666|\n",
      "|    9|         651381|\n",
      "|   10|         675130|\n",
      "|   11|         760165|\n",
      "|   12|         847343|\n",
      "+-----+---------------+\n",
      "\n"
     ]
    }
   ],
   "source": [
    "monthly_trend=df.groupBy(\"Month\").agg(count(\"*\").alias(\"Total_Accidents\")).orderBy(\"Month\")\n",
    "monthly_trend.show()"
   ]
  },
  {
   "cell_type": "markdown",
   "id": "93af028b",
   "metadata": {},
   "source": [
    "Peak accident hour: 5 PM – 7 PM\n",
    "Top 3 states: CA, FL, TX\n",
    "Accident trend spikes in December and January"
   ]
  },
  {
   "cell_type": "code",
   "execution_count": null,
   "id": "236a07f7",
   "metadata": {},
   "outputs": [
    {
     "data": {
      "image/png": "[encoded data removed]",
      "text/plain": [
       "<Figure size 640x480 with 1 Axes>"
      ]
     },
     "metadata": {},
     "output_type": "display_data"
    }
   ],
   "source": [
    "pandas_monthly=monthly_trend.toPandas()\n",
    "plt.plot(pandas_monthly['Month'],pandas_monthly['Total_Accidents'])\n",
    "plt.title(\"Monthly Accident Trend\")\n",
    "plt.xlabel(\"Month\")\n",
    "plt.ylabel(\"Number of Accidents\")\n",
    "plt.show()\n"
   ]
  },
  {
   "cell_type": "markdown",
   "id": "2b443708",
   "metadata": {},
   "source": [
    "Accident counts peak during evening hours.\n",
    "Winter months have higher accident frequencies.\n",
    "Some states/cities are more accident-prone."
   ]
  }
 ],
 "metadata": {
  "kernelspec": {
   "display_name": "base",
   "language": "python",
   "name": "python3"
  },
  "language_info": {
   "codemirror_mode": {
    "name": "ipython",
    "version": 3
   },
   "file_extension": ".py",
   "mimetype": "text/x-python",
   "name": "python",
   "nbconvert_exporter": "python",
   "pygments_lexer": "ipython3",
   "version": "3.13.5"
  }
 },
 "nbformat": 4,
 "nbformat_minor": 5
}
